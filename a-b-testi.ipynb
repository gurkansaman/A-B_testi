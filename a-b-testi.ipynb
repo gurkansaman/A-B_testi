{
 "cells": [
  {
   "cell_type": "markdown",
   "id": "a3051700",
   "metadata": {
    "papermill": {
     "duration": 0.011933,
     "end_time": "2021-07-23T16:40:33.389404",
     "exception": false,
     "start_time": "2021-07-23T16:40:33.377471",
     "status": "completed"
    },
    "tags": []
   },
   "source": [
    "######################################################\n",
    "# AB Testing (Bağımsız İki Örneklem T Testi)\n",
    "######################################################\n",
    "\n",
    "\n",
    "1. Hipotezleri Kur\n",
    "2. Varsayım Kontrolü\n",
    "   - 1. Normallik Varsayımı\n",
    "   - 2. Varyans Homojenliği\n",
    " 3. Hipotezin Uygulanması\n",
    "   - p-value < 0.05 ise HO red.\n",
    "   - 1. Varsayımlar sağlanıyorsa bağımsız iki örneklem t testi (parametrik test)\n",
    "   - 2. Varsayımlar sağlanmıyorsa mannwhitneyu testi (non-parametrik test)\n",
    " Not:\n",
    " - Normallik sağlanmıyorsa direk 2 numara. Varyans homojenliği sağlanmıyorsa 1 numaraya arguman girilir.\n",
    " - Normallik incelemesi öncesi aykırı değer incelemesi ve düzeltmesi yapmak faydalı olabilir.\n"
   ]
  },
  {
   "cell_type": "code",
   "execution_count": 1,
   "id": "936c9246",
   "metadata": {
    "execution": {
     "iopub.execute_input": "2021-07-23T16:40:33.427408Z",
     "iopub.status.busy": "2021-07-23T16:40:33.426603Z",
     "iopub.status.idle": "2021-07-23T16:40:34.610741Z",
     "shell.execute_reply": "2021-07-23T16:40:34.609883Z",
     "shell.execute_reply.started": "2021-07-23T16:26:23.98426Z"
    },
    "papermill": {
     "duration": 1.210096,
     "end_time": "2021-07-23T16:40:34.610906",
     "exception": false,
     "start_time": "2021-07-23T16:40:33.400810",
     "status": "completed"
    },
    "tags": []
   },
   "outputs": [],
   "source": [
    "import itertools\n",
    "import numpy as np\n",
    "import pandas as pd\n",
    "import matplotlib.pyplot as plt\n",
    "import seaborn as sns\n",
    "import statsmodels.stats.api as sms\n",
    "from scipy.stats import ttest_1samp, shapiro, levene, ttest_ind, mannwhitneyu, pearsonr, spearmanr, kendalltau, \\\n",
    "    f_oneway, kruskal\n",
    "from statsmodels.stats.proportion import proportions_ztest\n",
    "\n",
    "pd.set_option('display.max_columns', None)\n",
    "pd.set_option('display.max_rows', 10)\n",
    "pd.set_option('display.float_format', lambda x: '%.5f' % x)"
   ]
  },
  {
   "cell_type": "markdown",
   "id": "fc8bbd2e",
   "metadata": {
    "papermill": {
     "duration": 0.010513,
     "end_time": "2021-07-23T16:40:34.632717",
     "exception": false,
     "start_time": "2021-07-23T16:40:34.622204",
     "status": "completed"
    },
    "tags": []
   },
   "source": [
    "############################\n",
    "# 1. Hipotezi Kur\n",
    "############################"
   ]
  },
  {
   "cell_type": "code",
   "execution_count": 2,
   "id": "7d5ef114",
   "metadata": {
    "execution": {
     "iopub.execute_input": "2021-07-23T16:40:34.660332Z",
     "iopub.status.busy": "2021-07-23T16:40:34.659324Z",
     "iopub.status.idle": "2021-07-23T16:40:35.907887Z",
     "shell.execute_reply": "2021-07-23T16:40:35.907252Z",
     "shell.execute_reply.started": "2021-07-23T16:26:26.770201Z"
    },
    "papermill": {
     "duration": 1.264354,
     "end_time": "2021-07-23T16:40:35.908047",
     "exception": false,
     "start_time": "2021-07-23T16:40:34.643693",
     "status": "completed"
    },
    "tags": []
   },
   "outputs": [
    {
     "data": {
      "text/html": [
       "<div>\n",
       "<style scoped>\n",
       "    .dataframe tbody tr th:only-of-type {\n",
       "        vertical-align: middle;\n",
       "    }\n",
       "\n",
       "    .dataframe tbody tr th {\n",
       "        vertical-align: top;\n",
       "    }\n",
       "\n",
       "    .dataframe thead th {\n",
       "        text-align: right;\n",
       "    }\n",
       "</style>\n",
       "<table border=\"1\" class=\"dataframe\">\n",
       "  <thead>\n",
       "    <tr style=\"text-align: right;\">\n",
       "      <th></th>\n",
       "      <th>total_bill</th>\n",
       "    </tr>\n",
       "    <tr>\n",
       "      <th>smoker</th>\n",
       "      <th></th>\n",
       "    </tr>\n",
       "  </thead>\n",
       "  <tbody>\n",
       "    <tr>\n",
       "      <th>Yes</th>\n",
       "      <td>20.75634</td>\n",
       "    </tr>\n",
       "    <tr>\n",
       "      <th>No</th>\n",
       "      <td>19.18828</td>\n",
       "    </tr>\n",
       "  </tbody>\n",
       "</table>\n",
       "</div>"
      ],
      "text/plain": [
       "        total_bill\n",
       "smoker            \n",
       "Yes       20.75634\n",
       "No        19.18828"
      ]
     },
     "execution_count": 2,
     "metadata": {},
     "output_type": "execute_result"
    }
   ],
   "source": [
    "# H0: M1 = M2\n",
    "# H1: M1!= M2\n",
    "\n",
    "df = sns.load_dataset(\"tips\")\n",
    "df.groupby(\"smoker\").agg({\"total_bill\": \"mean\"})\n",
    "\n",
    "# Pek bir fark yok gibi duruyor!"
   ]
  },
  {
   "cell_type": "markdown",
   "id": "9bfdf1d5",
   "metadata": {
    "papermill": {
     "duration": 0.011063,
     "end_time": "2021-07-23T16:40:35.930670",
     "exception": false,
     "start_time": "2021-07-23T16:40:35.919607",
     "status": "completed"
    },
    "tags": []
   },
   "source": [
    "############################\n",
    "# 2. Varsayım Kontrolü\n",
    "############################\n",
    "\n",
    " Normallik Varsayımı\n",
    " Varyans Homojenliği"
   ]
  },
  {
   "cell_type": "code",
   "execution_count": 3,
   "id": "8e139d7b",
   "metadata": {
    "execution": {
     "iopub.execute_input": "2021-07-23T16:40:35.961625Z",
     "iopub.status.busy": "2021-07-23T16:40:35.960616Z",
     "iopub.status.idle": "2021-07-23T16:40:35.964013Z",
     "shell.execute_reply": "2021-07-23T16:40:35.964493Z",
     "shell.execute_reply.started": "2021-07-23T16:28:22.096027Z"
    },
    "papermill": {
     "duration": 0.022059,
     "end_time": "2021-07-23T16:40:35.964657",
     "exception": false,
     "start_time": "2021-07-23T16:40:35.942598",
     "status": "completed"
    },
    "tags": []
   },
   "outputs": [
    {
     "name": "stdout",
     "output_type": "stream",
     "text": [
      "Test Stat = 0.9367, p-value = 0.0002\n"
     ]
    }
   ],
   "source": [
    "#################################\n",
    "# Normallik Varsayımı (SHAPIRO)\n",
    "#################################\n",
    "\n",
    "# Yani standart normal dağılıma uyup uymadığının kontrolü yapılır\n",
    "\n",
    "test_stat, pvalue = shapiro(df.loc[df[\"smoker\"] == \"Yes\", \"total_bill\"])\n",
    "print('Test Stat = %.4f, p-value = %.4f' % (test_stat, pvalue))\n",
    "# 0.0002 < 0.05 çıkmıştır.\n",
    "\n",
    "# İpucu:\n",
    "# p-value < ise 0.05'ten HO RED.\n",
    "# p-value < değilse 0.05 H0 REDDEDILEMEZ."
   ]
  },
  {
   "cell_type": "code",
   "execution_count": 4,
   "id": "85003fd4",
   "metadata": {
    "execution": {
     "iopub.execute_input": "2021-07-23T16:40:35.990972Z",
     "iopub.status.busy": "2021-07-23T16:40:35.990323Z",
     "iopub.status.idle": "2021-07-23T16:40:35.996421Z",
     "shell.execute_reply": "2021-07-23T16:40:35.996929Z",
     "shell.execute_reply.started": "2021-07-23T16:31:02.97286Z"
    },
    "papermill": {
     "duration": 0.0209,
     "end_time": "2021-07-23T16:40:35.997147",
     "exception": false,
     "start_time": "2021-07-23T16:40:35.976247",
     "status": "completed"
    },
    "tags": []
   },
   "outputs": [
    {
     "name": "stdout",
     "output_type": "stream",
     "text": [
      "Test Stat = 0.9045, p-value = 0.0000\n"
     ]
    }
   ],
   "source": [
    "test_stat, pvalue = shapiro(df.loc[df[\"smoker\"] == \"No\", \"total_bill\"])\n",
    "print('Test Stat = %.4f, p-value = %.4f' % (test_stat, pvalue))\n",
    "# 0.0000 < 0.05 çıkmıştır.\n",
    "\n",
    "# İpucu:\n",
    "# p-value < ise 0.05'ten HO RED.\n",
    "# p-value < değilse 0.05 H0 REDDEDILEMEZ."
   ]
  },
  {
   "cell_type": "markdown",
   "id": "a2aea0d3",
   "metadata": {
    "papermill": {
     "duration": 0.011769,
     "end_time": "2021-07-23T16:40:36.020934",
     "exception": false,
     "start_time": "2021-07-23T16:40:36.009165",
     "status": "completed"
    },
    "tags": []
   },
   "source": [
    "\n",
    "H0 red edilmiştir ve Normal dağılıma uymadığı anlaşılmıştır."
   ]
  },
  {
   "cell_type": "markdown",
   "id": "059a649b",
   "metadata": {
    "papermill": {
     "duration": 0.011523,
     "end_time": "2021-07-23T16:40:36.044452",
     "exception": false,
     "start_time": "2021-07-23T16:40:36.032929",
     "status": "completed"
    },
    "tags": []
   },
   "source": [
    "##############################################\n",
    "# Varyans Homojenligi Varsayımı - Levene Testi\n",
    "###############################################"
   ]
  },
  {
   "cell_type": "code",
   "execution_count": 5,
   "id": "aec947f4",
   "metadata": {
    "execution": {
     "iopub.execute_input": "2021-07-23T16:40:36.074637Z",
     "iopub.status.busy": "2021-07-23T16:40:36.073971Z",
     "iopub.status.idle": "2021-07-23T16:40:36.083816Z",
     "shell.execute_reply": "2021-07-23T16:40:36.084307Z",
     "shell.execute_reply.started": "2021-07-23T16:32:15.218997Z"
    },
    "papermill": {
     "duration": 0.02645,
     "end_time": "2021-07-23T16:40:36.084472",
     "exception": false,
     "start_time": "2021-07-23T16:40:36.058022",
     "status": "completed"
    },
    "tags": []
   },
   "outputs": [
    {
     "name": "stdout",
     "output_type": "stream",
     "text": [
      "Test Stat = 4.0537, p-value = 0.0452\n"
     ]
    }
   ],
   "source": [
    "# 2 örneklemin dağılımın benzerliğine bakar. Benzer ise homojen denir.\n",
    "\n",
    "#Hipotezler:\n",
    "# H0: Varyanslar Homojendir\n",
    "# H1: Varyanslar Homojen Değildir\n",
    "\n",
    "\n",
    "test_stat, pvalue = levene(df.loc[df[\"smoker\"] == \"Yes\", \"total_bill\"],\n",
    "                           df.loc[df[\"smoker\"] == \"No\", \"total_bill\"])\n",
    "print('Test Stat = %.4f, p-value = %.4f' % (test_stat, pvalue))\n",
    "\n",
    "# İpucu:\n",
    "# p-value < ise 0.05 'ten HO RED.\n",
    "# p-value < değilse 0.05 H0 REDDEDILEMEZ.\n",
    "\n",
    "# 0.0452 < 0.05 küçük gelmiştir ve H0 rededilir.\n",
    "# Yani Varyanslar, Homojen değildir."
   ]
  },
  {
   "cell_type": "markdown",
   "id": "4244c8ae",
   "metadata": {
    "papermill": {
     "duration": 0.012105,
     "end_time": "2021-07-23T16:40:36.108917",
     "exception": false,
     "start_time": "2021-07-23T16:40:36.096812",
     "status": "completed"
    },
    "tags": []
   },
   "source": [
    "############################\n",
    "# 3. Hipotezin Uygulanması\n",
    "############################\n",
    "\n",
    "\n",
    " 1. Varsayımlar sağlanıyorsa bağımsız iki örneklem t testi (parametrik test)\n",
    " 2. Varsayımlar sağlanmıyorsa mannwhitneyu testi (non-parametrik test)\n",
    "\n",
    " Eğer normallik sağlanmazsa her türlü nonparametrik test yapacağız.\n",
    " Eger normallik sağlanır varyans homojenliği sağlanmazsa ne olacak?\n",
    " T test fonksiyonuna arguman gireceğiz."
   ]
  },
  {
   "cell_type": "code",
   "execution_count": 6,
   "id": "927a929a",
   "metadata": {
    "execution": {
     "iopub.execute_input": "2021-07-23T16:40:36.137650Z",
     "iopub.status.busy": "2021-07-23T16:40:36.136618Z",
     "iopub.status.idle": "2021-07-23T16:40:36.144433Z",
     "shell.execute_reply": "2021-07-23T16:40:36.144879Z",
     "shell.execute_reply.started": "2021-07-23T16:34:34.013444Z"
    },
    "papermill": {
     "duration": 0.023778,
     "end_time": "2021-07-23T16:40:36.145074",
     "exception": false,
     "start_time": "2021-07-23T16:40:36.121296",
     "status": "completed"
    },
    "tags": []
   },
   "outputs": [
    {
     "name": "stdout",
     "output_type": "stream",
     "text": [
      "Test Stat = 6511.5000, p-value = 0.1707\n"
     ]
    }
   ],
   "source": [
    "# Burada Hipotez uygulamasında 2. seçenek uygulanır çünkü normallik ve varyans homojenliği sağlanmamıştır.\n",
    "# Mannwhitneyu Testi:\n",
    "\n",
    "test_stat, pvalue = mannwhitneyu(df.loc[df[\"smoker\"] == \"Yes\", \"total_bill\"],\n",
    "                                 df.loc[df[\"smoker\"] == \"No\", \"total_bill\"])\n",
    "\n",
    "\n",
    "print('Test Stat = %.4f, p-value = %.4f' % (test_stat, pvalue))"
   ]
  },
  {
   "cell_type": "markdown",
   "id": "794a5772",
   "metadata": {
    "papermill": {
     "duration": 0.012287,
     "end_time": "2021-07-23T16:40:36.170053",
     "exception": false,
     "start_time": "2021-07-23T16:40:36.157766",
     "status": "completed"
    },
    "tags": []
   },
   "source": [
    "# Sonuç:\n",
    " 0.1707 > 0.05 ise H0 rededilemez ve M1 = M2 hipotezi sağlanmış olur.\n",
    " Ortalamalar arasında bir fark yoktur istatiksel anlamda."
   ]
  },
  {
   "cell_type": "markdown",
   "id": "34e650f0",
   "metadata": {
    "papermill": {
     "duration": 0.012337,
     "end_time": "2021-07-23T16:40:36.195077",
     "exception": false,
     "start_time": "2021-07-23T16:40:36.182740",
     "status": "completed"
    },
    "tags": []
   },
   "source": [
    "############################\n",
    "# 3. Eğer varsayımlar sağlasaydı !\n",
    "############################"
   ]
  },
  {
   "cell_type": "code",
   "execution_count": 7,
   "id": "9573a7b6",
   "metadata": {
    "execution": {
     "iopub.execute_input": "2021-07-23T16:40:36.228316Z",
     "iopub.status.busy": "2021-07-23T16:40:36.227640Z",
     "iopub.status.idle": "2021-07-23T16:40:36.230051Z",
     "shell.execute_reply": "2021-07-23T16:40:36.230528Z",
     "shell.execute_reply.started": "2021-07-23T16:37:10.965165Z"
    },
    "papermill": {
     "duration": 0.022746,
     "end_time": "2021-07-23T16:40:36.230690",
     "exception": false,
     "start_time": "2021-07-23T16:40:36.207944",
     "status": "completed"
    },
    "tags": []
   },
   "outputs": [
    {
     "name": "stdout",
     "output_type": "stream",
     "text": [
      "Test Stat = 1.3384, p-value = 0.1820\n"
     ]
    }
   ],
   "source": [
    "# T testi yapılır:\n",
    "\n",
    "test_stat, pvalue = ttest_ind(df.loc[df[\"smoker\"] == \"Yes\", \"total_bill\"],\n",
    "                              df.loc[df[\"smoker\"] == \"No\", \"total_bill\"],\n",
    "                              equal_var=True)\n",
    "\n",
    "print('Test Stat = %.4f, p-value = %.4f' % (test_stat, pvalue))\n",
    "\n",
    "# Sonuç:\n",
    "# 0.1820 > 0.05 ise H0 rededilemez ve M1 = M2 hipotezi sağlanmış olur.\n",
    "# Ortalamalar arasında bir fark yoktur istatiksel anlamda.\n",
    "\n",
    "# İpucu:\n",
    "# p-value < ise 0.05 'ten HO RED.\n",
    "# p-value < değilse 0.05 H0 REDDEDILEMEZ."
   ]
  }
 ],
 "metadata": {
  "kernelspec": {
   "display_name": "Python 3",
   "language": "python",
   "name": "python3"
  },
  "language_info": {
   "codemirror_mode": {
    "name": "ipython",
    "version": 3
   },
   "file_extension": ".py",
   "mimetype": "text/x-python",
   "name": "python",
   "nbconvert_exporter": "python",
   "pygments_lexer": "ipython3",
   "version": "3.7.10"
  },
  "papermill": {
   "default_parameters": {},
   "duration": 12.79257,
   "end_time": "2021-07-23T16:40:37.943513",
   "environment_variables": {},
   "exception": null,
   "input_path": "__notebook__.ipynb",
   "output_path": "__notebook__.ipynb",
   "parameters": {},
   "start_time": "2021-07-23T16:40:25.150943",
   "version": "2.3.3"
  }
 },
 "nbformat": 4,
 "nbformat_minor": 5
}
